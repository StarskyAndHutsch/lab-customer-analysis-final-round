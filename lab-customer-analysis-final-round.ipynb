{
 "cells": [
  {
   "cell_type": "markdown",
   "id": "75df49e2",
   "metadata": {},
   "source": [
    "## Lab | Customer Analysis Final Round\n",
    "\n",
    "For this lab, we still keep using the marketing_customer_analysis.csv file that you can find in the files_for_lab folder.\n",
    "\n",
    "It's time to put it all together. Remember the previous rounds and follow the steps as shown in previous lectures.\n",
    "\n",
    "### 01 - Problem (case study)\n",
    "\n",
    "* Data Description.\n",
    "* Goal.\n",
    "\n",
    "### 02 - Getting Data\n",
    "\n",
    "* Read the .csv file.\n",
    "\n",
    "### 03 - Cleaning/Wrangling/EDA\n",
    "\n",
    "* Change headers names.\n",
    "* Deal with NaN values.\n",
    "* Categorical Features.\n",
    "* Numerical Features.\n",
    "* Exploration.\n",
    "\n",
    "### 04 - Processing Data\n",
    "\n",
    "* Dealing with outliers.\n",
    "* Normalization.\n",
    "* Encoding Categorical Data.\n",
    "* Splitting into train set and test set.\n",
    "\n",
    "### 05 - Modeling\n",
    "\n",
    "* Apply model.\n",
    "\n",
    "### 06 - Model Validation\n",
    "\n",
    "* R2.\n",
    "* MSE.\n",
    "* RMSE.\n",
    "* MAE.\n",
    "\n",
    "### 07 - Reporting\n",
    "\n",
    "* Present results."
   ]
  },
  {
   "cell_type": "code",
   "execution_count": null,
   "id": "0ce2cd52",
   "metadata": {},
   "outputs": [],
   "source": []
  }
 ],
 "metadata": {
  "kernelspec": {
   "display_name": "Python 3 (ipykernel)",
   "language": "python",
   "name": "python3"
  },
  "language_info": {
   "codemirror_mode": {
    "name": "ipython",
    "version": 3
   },
   "file_extension": ".py",
   "mimetype": "text/x-python",
   "name": "python",
   "nbconvert_exporter": "python",
   "pygments_lexer": "ipython3",
   "version": "3.9.12"
  }
 },
 "nbformat": 4,
 "nbformat_minor": 5
}
